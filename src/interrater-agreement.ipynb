{
 "cells": [
  {
   "cell_type": "code",
   "execution_count": 16,
   "metadata": {},
   "outputs": [],
   "source": [
    "import pandas as pd\n",
    "from sklearn.metrics import cohen_kappa_score"
   ]
  },
  {
   "cell_type": "code",
   "execution_count": 2,
   "metadata": {},
   "outputs": [],
   "source": [
    "rating1 = pd.read_excel('../data/r3a-slr-experimentation.xlsx', sheet_name='Candidates', usecols=['ID', 'V']).set_index('ID')\n",
    "rating2 = pd.read_excel('../data/r3a-slr-experimentation.xlsx', sheet_name='Overlap 2', usecols=['ID', 'V']).set_index('ID')"
   ]
  },
  {
   "cell_type": "code",
   "execution_count": 3,
   "metadata": {},
   "outputs": [],
   "source": [
    "relevant_ids = rating2.index\n",
    "rating1_relevant = rating1[rating1.index.isin(relevant_ids)]"
   ]
  },
  {
   "cell_type": "code",
   "execution_count": 4,
   "metadata": {},
   "outputs": [
    {
     "name": "stderr",
     "output_type": "stream",
     "text": [
      "C:\\Users\\juf\\AppData\\Local\\Temp\\ipykernel_22912\\67243129.py:1: SettingWithCopyWarning: \n",
      "A value is trying to be set on a copy of a slice from a DataFrame\n",
      "\n",
      "See the caveats in the documentation: https://pandas.pydata.org/pandas-docs/stable/user_guide/indexing.html#returning-a-view-versus-a-copy\n",
      "  rating1_relevant.rename(columns={'V': 'R1'}, inplace=True)\n"
     ]
    }
   ],
   "source": [
    "rating1_relevant.rename(columns={'V': 'R1'}, inplace=True)\n",
    "rating2.rename(columns={'V': 'R2'}, inplace=True)\n",
    "rating = pd.concat([rating1_relevant, rating2], axis=1)"
   ]
  },
  {
   "cell_type": "markdown",
   "metadata": {},
   "source": [
    "### Percentage Agreement\n",
    "\n",
    "Percentage agreement is the simplest type of inter-rater reliability. It suffers from the fact that it does not account for agreement caused by chance.\n",
    "\n",
    "Holsti, O. R. (1969). Content analysis for the social sciences and humanities. Reading. MA: Addison-Wesley (content analysis)."
   ]
  },
  {
   "cell_type": "code",
   "execution_count": 13,
   "metadata": {},
   "outputs": [
    {
     "name": "stdout",
     "output_type": "stream",
     "text": [
      "The two raters achieved a percentage agreement of 94.67%.\n"
     ]
    }
   ],
   "source": [
    "agreement = rating.apply(lambda row: row['R1'] == row['R2'], axis=1)\n",
    "agreement_statistics = agreement.value_counts().to_dict()\n",
    "percentage_agreement = agreement_statistics[True]/len(rating)\n",
    "print(f'The two raters achieved a percentage agreement of {percentage_agreement:.2%}.')"
   ]
  },
  {
   "cell_type": "markdown",
   "metadata": {},
   "source": [
    "### Cohen's Kappa\n",
    "\n",
    "Cohen's Kappa accounts for agreement caused by chance but samples the expected marginal distributions from the data directly, which is not applicable in this labeling task. The measure is calculated for completeness' and comparison's sake.\n",
    "\n",
    "Cohen, J. (1960). A coefficient of agreement for nominal scales. Educational and psychological measurement, 20(1), 37-46."
   ]
  },
  {
   "cell_type": "code",
   "execution_count": 18,
   "metadata": {},
   "outputs": [
    {
     "name": "stdout",
     "output_type": "stream",
     "text": [
      "The two raters achieved a Cohen's Kappa agreement of 68.49%.\n"
     ]
    }
   ],
   "source": [
    "cohens_kappa = cohen_kappa_score(rating['R1'], rating['R2'], labels=[True, False])\n",
    "print(f\"The two raters achieved a Cohen's Kappa agreement of {cohens_kappa:.2%}.\")"
   ]
  },
  {
   "cell_type": "markdown",
   "metadata": {},
   "source": [
    "### Bennett's S-Score\n",
    "\n",
    "Bennett's S-score is a recommended alternative to Cohen's Kappa in this task, since it does account for agreement caused by chance but does not make the same assumptions as described above.\n",
    "\n",
    "Bennett, E. M., Alpert, R., & Goldstein, A. C. (1954). Communications through limited-response questioning. Public Opinion Quarterly, 18(3), 303-308."
   ]
  },
  {
   "cell_type": "code",
   "execution_count": 20,
   "metadata": {},
   "outputs": [
    {
     "name": "stdout",
     "output_type": "stream",
     "text": [
      "The two raters achieved a Bennet's S-Score of 89.33%.\n"
     ]
    }
   ],
   "source": [
    "def equal_proportion(y1, y2):\n",
    "    D = 0\n",
    "    for e1, e2 in zip(y1, y2):\n",
    "        if e1 == e2:\n",
    "            D += 1\n",
    "\n",
    "    return D/len(y1)\n",
    "\n",
    "def bennetts_s_score(y1, y2, labels):\n",
    "    k = len(labels)\n",
    "    p = equal_proportion(y1, y2)\n",
    "    s = (k/(k-1)) * (p-(1/k))  \n",
    "    return s\n",
    "\n",
    "s_score = bennetts_s_score(rating['R1'], rating['R2'], labels=[True, False])\n",
    "print(f\"The two raters achieved a Bennet's S-Score of {s_score:.2%}.\")"
   ]
  }
 ],
 "metadata": {
  "kernelspec": {
   "display_name": "Python 3",
   "language": "python",
   "name": "python3"
  },
  "language_info": {
   "codemirror_mode": {
    "name": "ipython",
    "version": 3
   },
   "file_extension": ".py",
   "mimetype": "text/x-python",
   "name": "python",
   "nbconvert_exporter": "python",
   "pygments_lexer": "ipython3",
   "version": "3.10.0"
  }
 },
 "nbformat": 4,
 "nbformat_minor": 2
}
