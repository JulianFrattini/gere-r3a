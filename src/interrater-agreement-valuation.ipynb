{
 "cells": [
  {
   "cell_type": "code",
   "execution_count": 1,
   "metadata": {},
   "outputs": [],
   "source": [
    "import pandas as pd\n",
    "from sklearn.metrics import cohen_kappa_score"
   ]
  },
  {
   "cell_type": "code",
   "execution_count": 2,
   "metadata": {},
   "outputs": [],
   "source": [
    "rating1 = pd.read_excel('../data/r3a-data-extraction.xlsx', sheet_name='Data', usecols=['ID', 'Dependent Variable', 'Val'])\n",
    "rating2 = pd.read_excel('../data/r3a-data-extraction.xlsx', sheet_name='Valuation Overlap', usecols=['ID', 'Dependent Variable', 'No valuation'])"
   ]
  },
  {
   "cell_type": "code",
   "execution_count": 3,
   "metadata": {},
   "outputs": [],
   "source": [
    "relevant_ids = rating2['ID'].values\n",
    "relevant_dependent_variables = rating2['Dependent Variable'].values\n",
    "rating1_relevant = rating1[(rating1['ID'].isin(relevant_ids)) & (rating1['Dependent Variable'].isin(relevant_dependent_variables))]"
   ]
  },
  {
   "cell_type": "code",
   "execution_count": 6,
   "metadata": {},
   "outputs": [
    {
     "data": {
      "text/html": [
       "<div>\n",
       "<style scoped>\n",
       "    .dataframe tbody tr th:only-of-type {\n",
       "        vertical-align: middle;\n",
       "    }\n",
       "\n",
       "    .dataframe tbody tr th {\n",
       "        vertical-align: top;\n",
       "    }\n",
       "\n",
       "    .dataframe thead th {\n",
       "        text-align: right;\n",
       "    }\n",
       "</style>\n",
       "<table border=\"1\" class=\"dataframe\">\n",
       "  <thead>\n",
       "    <tr style=\"text-align: right;\">\n",
       "      <th></th>\n",
       "      <th>Dependent Variable</th>\n",
       "      <th>Val</th>\n",
       "    </tr>\n",
       "    <tr>\n",
       "      <th>ID</th>\n",
       "      <th></th>\n",
       "      <th></th>\n",
       "    </tr>\n",
       "  </thead>\n",
       "  <tbody>\n",
       "    <tr>\n",
       "      <th>E54</th>\n",
       "      <td>Comprehension Level. It measures the comprehen...</td>\n",
       "      <td>False</td>\n",
       "    </tr>\n",
       "    <tr>\n",
       "      <th>E148</th>\n",
       "      <td>File Version History [...] Each team submitted...</td>\n",
       "      <td>True</td>\n",
       "    </tr>\n",
       "    <tr>\n",
       "      <th>E218</th>\n",
       "      <td>The comprehension level, which was measured as...</td>\n",
       "      <td>False</td>\n",
       "    </tr>\n",
       "    <tr>\n",
       "      <th>E384</th>\n",
       "      <td>the understandability and manageability of the...</td>\n",
       "      <td>False</td>\n",
       "    </tr>\n",
       "    <tr>\n",
       "      <th>E569</th>\n",
       "      <td>Completeness: Is the test scenario complete, e...</td>\n",
       "      <td>False</td>\n",
       "    </tr>\n",
       "    <tr>\n",
       "      <th>E591</th>\n",
       "      <td>Threat-phase association: A percentage that es...</td>\n",
       "      <td>True</td>\n",
       "    </tr>\n",
       "    <tr>\n",
       "      <th>E626</th>\n",
       "      <td>Required number of decisions: for the first fo...</td>\n",
       "      <td>True</td>\n",
       "    </tr>\n",
       "    <tr>\n",
       "      <th>E677</th>\n",
       "      <td>The average time to conclude a prioritization ...</td>\n",
       "      <td>False</td>\n",
       "    </tr>\n",
       "    <tr>\n",
       "      <th>E730</th>\n",
       "      <td>both eye movement and verbal data were recorde...</td>\n",
       "      <td>True</td>\n",
       "    </tr>\n",
       "    <tr>\n",
       "      <th>E952</th>\n",
       "      <td>To get a single measure that represents a trad...</td>\n",
       "      <td>False</td>\n",
       "    </tr>\n",
       "    <tr>\n",
       "      <th>E1142</th>\n",
       "      <td>the number of features judged as essential</td>\n",
       "      <td>True</td>\n",
       "    </tr>\n",
       "    <tr>\n",
       "      <th>E1148</th>\n",
       "      <td>The measured sizes of the models were compared...</td>\n",
       "      <td>True</td>\n",
       "    </tr>\n",
       "  </tbody>\n",
       "</table>\n",
       "</div>"
      ],
      "text/plain": [
       "                                      Dependent Variable    Val\n",
       "ID                                                             \n",
       "E54    Comprehension Level. It measures the comprehen...  False\n",
       "E148   File Version History [...] Each team submitted...   True\n",
       "E218   The comprehension level, which was measured as...  False\n",
       "E384   the understandability and manageability of the...  False\n",
       "E569   Completeness: Is the test scenario complete, e...  False\n",
       "E591   Threat-phase association: A percentage that es...   True\n",
       "E626   Required number of decisions: for the first fo...   True\n",
       "E677   The average time to conclude a prioritization ...  False\n",
       "E730   both eye movement and verbal data were recorde...   True\n",
       "E952   To get a single measure that represents a trad...  False\n",
       "E1142         the number of features judged as essential   True\n",
       "E1148  The measured sizes of the models were compared...   True"
      ]
     },
     "execution_count": 6,
     "metadata": {},
     "output_type": "execute_result"
    }
   ],
   "source": [
    "rating1_relevant.drop_duplicates().set_index('ID')"
   ]
  },
  {
   "cell_type": "code",
   "execution_count": 7,
   "metadata": {},
   "outputs": [],
   "source": [
    "rating1_relevant = rating1_relevant.drop_duplicates().set_index('ID')\n",
    "rating2 = rating2.set_index('ID')"
   ]
  },
  {
   "cell_type": "code",
   "execution_count": 8,
   "metadata": {},
   "outputs": [],
   "source": [
    "rating1_relevant.rename(columns={'Val': 'R1'}, inplace=True)\n",
    "rating2.rename(columns={'No valuation': 'R2'}, inplace=True)\n",
    "rating = pd.concat([rating1_relevant, rating2], axis=1)"
   ]
  },
  {
   "cell_type": "code",
   "execution_count": 12,
   "metadata": {},
   "outputs": [
    {
     "data": {
      "text/html": [
       "<div>\n",
       "<style scoped>\n",
       "    .dataframe tbody tr th:only-of-type {\n",
       "        vertical-align: middle;\n",
       "    }\n",
       "\n",
       "    .dataframe tbody tr th {\n",
       "        vertical-align: top;\n",
       "    }\n",
       "\n",
       "    .dataframe thead th {\n",
       "        text-align: right;\n",
       "    }\n",
       "</style>\n",
       "<table border=\"1\" class=\"dataframe\">\n",
       "  <thead>\n",
       "    <tr style=\"text-align: right;\">\n",
       "      <th></th>\n",
       "      <th>Dependent Variable</th>\n",
       "      <th>R1</th>\n",
       "      <th>Dependent Variable</th>\n",
       "      <th>R2</th>\n",
       "    </tr>\n",
       "    <tr>\n",
       "      <th>ID</th>\n",
       "      <th></th>\n",
       "      <th></th>\n",
       "      <th></th>\n",
       "      <th></th>\n",
       "    </tr>\n",
       "  </thead>\n",
       "  <tbody>\n",
       "    <tr>\n",
       "      <th>E54</th>\n",
       "      <td>Comprehension Level. It measures the comprehen...</td>\n",
       "      <td>False</td>\n",
       "      <td>Comprehension Level. It measures the comprehen...</td>\n",
       "      <td>False</td>\n",
       "    </tr>\n",
       "    <tr>\n",
       "      <th>E148</th>\n",
       "      <td>File Version History [...] Each team submitted...</td>\n",
       "      <td>True</td>\n",
       "      <td>File Version History [...] Each team submitted...</td>\n",
       "      <td>True</td>\n",
       "    </tr>\n",
       "    <tr>\n",
       "      <th>E218</th>\n",
       "      <td>The comprehension level, which was measured as...</td>\n",
       "      <td>False</td>\n",
       "      <td>The comprehension level, which was measured as...</td>\n",
       "      <td>False</td>\n",
       "    </tr>\n",
       "    <tr>\n",
       "      <th>E384</th>\n",
       "      <td>the understandability and manageability of the...</td>\n",
       "      <td>False</td>\n",
       "      <td>the understandability and manageability of the...</td>\n",
       "      <td>True</td>\n",
       "    </tr>\n",
       "    <tr>\n",
       "      <th>E569</th>\n",
       "      <td>Completeness: Is the test scenario complete, e...</td>\n",
       "      <td>False</td>\n",
       "      <td>Completeness: Is the test scenario complete, e...</td>\n",
       "      <td>False</td>\n",
       "    </tr>\n",
       "    <tr>\n",
       "      <th>E591</th>\n",
       "      <td>Threat-phase association: A percentage that es...</td>\n",
       "      <td>True</td>\n",
       "      <td>Threat-phase association: A percentage that es...</td>\n",
       "      <td>False</td>\n",
       "    </tr>\n",
       "    <tr>\n",
       "      <th>E626</th>\n",
       "      <td>Required number of decisions: for the first fo...</td>\n",
       "      <td>True</td>\n",
       "      <td>Required number of decisions: for the first fo...</td>\n",
       "      <td>True</td>\n",
       "    </tr>\n",
       "    <tr>\n",
       "      <th>E677</th>\n",
       "      <td>The average time to conclude a prioritization ...</td>\n",
       "      <td>False</td>\n",
       "      <td>The average time to conclude a prioritization ...</td>\n",
       "      <td>False</td>\n",
       "    </tr>\n",
       "    <tr>\n",
       "      <th>E730</th>\n",
       "      <td>both eye movement and verbal data were recorde...</td>\n",
       "      <td>True</td>\n",
       "      <td>both eye movement and verbal data were recorde...</td>\n",
       "      <td>True</td>\n",
       "    </tr>\n",
       "    <tr>\n",
       "      <th>E952</th>\n",
       "      <td>To get a single measure that represents a trad...</td>\n",
       "      <td>False</td>\n",
       "      <td>To get a single measure that represents a trad...</td>\n",
       "      <td>False</td>\n",
       "    </tr>\n",
       "    <tr>\n",
       "      <th>E1142</th>\n",
       "      <td>the number of features judged as essential</td>\n",
       "      <td>True</td>\n",
       "      <td>the number of features judged as essential</td>\n",
       "      <td>False</td>\n",
       "    </tr>\n",
       "    <tr>\n",
       "      <th>E1148</th>\n",
       "      <td>The measured sizes of the models were compared...</td>\n",
       "      <td>True</td>\n",
       "      <td>The measured sizes of the models were compared...</td>\n",
       "      <td>False</td>\n",
       "    </tr>\n",
       "  </tbody>\n",
       "</table>\n",
       "</div>"
      ],
      "text/plain": [
       "                                      Dependent Variable     R1  \\\n",
       "ID                                                                \n",
       "E54    Comprehension Level. It measures the comprehen...  False   \n",
       "E148   File Version History [...] Each team submitted...   True   \n",
       "E218   The comprehension level, which was measured as...  False   \n",
       "E384   the understandability and manageability of the...  False   \n",
       "E569   Completeness: Is the test scenario complete, e...  False   \n",
       "E591   Threat-phase association: A percentage that es...   True   \n",
       "E626   Required number of decisions: for the first fo...   True   \n",
       "E677   The average time to conclude a prioritization ...  False   \n",
       "E730   both eye movement and verbal data were recorde...   True   \n",
       "E952   To get a single measure that represents a trad...  False   \n",
       "E1142         the number of features judged as essential   True   \n",
       "E1148  The measured sizes of the models were compared...   True   \n",
       "\n",
       "                                      Dependent Variable     R2  \n",
       "ID                                                               \n",
       "E54    Comprehension Level. It measures the comprehen...  False  \n",
       "E148   File Version History [...] Each team submitted...   True  \n",
       "E218   The comprehension level, which was measured as...  False  \n",
       "E384   the understandability and manageability of the...   True  \n",
       "E569   Completeness: Is the test scenario complete, e...  False  \n",
       "E591   Threat-phase association: A percentage that es...  False  \n",
       "E626   Required number of decisions: for the first fo...   True  \n",
       "E677   The average time to conclude a prioritization ...  False  \n",
       "E730   both eye movement and verbal data were recorde...   True  \n",
       "E952   To get a single measure that represents a trad...  False  \n",
       "E1142         the number of features judged as essential  False  \n",
       "E1148  The measured sizes of the models were compared...  False  "
      ]
     },
     "execution_count": 12,
     "metadata": {},
     "output_type": "execute_result"
    }
   ],
   "source": [
    "rating"
   ]
  },
  {
   "cell_type": "markdown",
   "metadata": {},
   "source": [
    "### Percentage Agreement\n",
    "\n",
    "Percentage agreement is the simplest type of inter-rater reliability. It suffers from the fact that it does not account for agreement caused by chance.\n",
    "\n",
    "Holsti, O. R. (1969). Content analysis for the social sciences and humanities. Reading. MA: Addison-Wesley (content analysis)."
   ]
  },
  {
   "cell_type": "code",
   "execution_count": 10,
   "metadata": {},
   "outputs": [
    {
     "name": "stdout",
     "output_type": "stream",
     "text": [
      "The two raters achieved a percentage agreement of 66.67%.\n"
     ]
    }
   ],
   "source": [
    "agreement = rating.apply(lambda row: row['R1'] == row['R2'], axis=1)\n",
    "agreement_statistics = agreement.value_counts().to_dict()\n",
    "percentage_agreement = agreement_statistics[True]/len(rating)\n",
    "print(f'The two raters achieved a percentage agreement of {percentage_agreement:.2%}.')"
   ]
  },
  {
   "cell_type": "markdown",
   "metadata": {},
   "source": [
    "### Cohen's Kappa\n",
    "\n",
    "Cohen's Kappa accounts for agreement caused by chance but samples the expected marginal distributions from the data directly, which is not applicable in this labeling task. The measure is calculated for completeness' and comparison's sake.\n",
    "\n",
    "Cohen, J. (1960). A coefficient of agreement for nominal scales. Educational and psychological measurement, 20(1), 37-46."
   ]
  },
  {
   "cell_type": "code",
   "execution_count": 11,
   "metadata": {},
   "outputs": [
    {
     "name": "stdout",
     "output_type": "stream",
     "text": [
      "The two raters achieved a Cohen's Kappa agreement of 33.33%.\n"
     ]
    }
   ],
   "source": [
    "cohens_kappa = cohen_kappa_score(rating['R1'], rating['R2'], labels=[True, False])\n",
    "print(f\"The two raters achieved a Cohen's Kappa agreement of {cohens_kappa:.2%}.\")"
   ]
  },
  {
   "cell_type": "markdown",
   "metadata": {},
   "source": [
    "### Bennett's S-Score\n",
    "\n",
    "Bennett's S-score is a recommended alternative to Cohen's Kappa in this task, since it does account for agreement caused by chance but does not make the same assumptions as described above.\n",
    "\n",
    "Bennett, E. M., Alpert, R., & Goldstein, A. C. (1954). Communications through limited-response questioning. Public Opinion Quarterly, 18(3), 303-308."
   ]
  },
  {
   "cell_type": "code",
   "execution_count": 13,
   "metadata": {},
   "outputs": [
    {
     "name": "stdout",
     "output_type": "stream",
     "text": [
      "The two raters achieved a Bennet's S-Score of 33.33%.\n"
     ]
    }
   ],
   "source": [
    "def equal_proportion(y1, y2):\n",
    "    D = 0\n",
    "    for e1, e2 in zip(y1, y2):\n",
    "        if e1 == e2:\n",
    "            D += 1\n",
    "\n",
    "    return D/len(y1)\n",
    "\n",
    "def bennetts_s_score(y1, y2, labels):\n",
    "    k = len(labels)\n",
    "    p = equal_proportion(y1, y2)\n",
    "    s = (k/(k-1)) * (p-(1/k))  \n",
    "    return s\n",
    "\n",
    "s_score = bennetts_s_score(rating['R1'], rating['R2'], labels=[True, False])\n",
    "print(f\"The two raters achieved a Bennet's S-Score of {s_score:.2%}.\")"
   ]
  }
 ],
 "metadata": {
  "kernelspec": {
   "display_name": "Python 3",
   "language": "python",
   "name": "python3"
  },
  "language_info": {
   "codemirror_mode": {
    "name": "ipython",
    "version": 3
   },
   "file_extension": ".py",
   "mimetype": "text/x-python",
   "name": "python",
   "nbconvert_exporter": "python",
   "pygments_lexer": "ipython3",
   "version": "3.10.0"
  }
 },
 "nbformat": 4,
 "nbformat_minor": 2
}
